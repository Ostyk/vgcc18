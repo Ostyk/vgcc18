{
 "cells": [
  {
   "cell_type": "code",
   "execution_count": 1,
   "metadata": {},
   "outputs": [
    {
     "name": "stderr",
     "output_type": "stream",
     "text": [
      "/Library/Frameworks/Python.framework/Versions/3.6/lib/python3.6/site-packages/h5py/__init__.py:36: FutureWarning: Conversion of the second argument of issubdtype from `float` to `np.floating` is deprecated. In future, it will be treated as `np.float64 == np.dtype(float).type`.\n",
      "  from ._conv import register_converters as _register_converters\n",
      "Using TensorFlow backend.\n"
     ]
    }
   ],
   "source": [
    "import numpy as np\n",
    "import os\n",
    "import matplotlib.pyplot as plt\n",
    "import h5py\n",
    "from keras.applications import vgg16\n",
    "from keras.preprocessing import image\n",
    "from keras.applications.vgg16 import preprocess_input\n",
    "from keras.models import Model\n",
    "% matplotlib notebook\n",
    "from ipywidgets import FloatProgress\n",
    "from IPython.display import display\n",
    "from skimage.transform import resize\n",
    "import time\n",
    "import pandas as pd"
   ]
  },
  {
   "cell_type": "markdown",
   "metadata": {},
   "source": [
    "Creating files for both training and testing"
   ]
  },
  {
   "cell_type": "code",
   "execution_count": 2,
   "metadata": {},
   "outputs": [],
   "source": [
    "def save_file(X,y,name='training'):\n",
    "    h5f = h5py.File('data/'+name+'_svm_f.h5', 'w')\n",
    "    h5f.create_dataset('data', data=X)\n",
    "    h5f.create_dataset('labels', data=y)\n",
    "    h5f.close()\n",
    "    \n",
    "def arrays_from_files(type_ = 'training'):\n",
    "    np.random.seed(42) \n",
    "    if type_ == 'training': dir_, size = 'data/sc5', 3810 \n",
    "    elif type_ == 'test': dir_, size = 'data/sc5-test', 1252\n",
    "        \n",
    "    X, y = np.zeros((size, 240, 800, 3)), []#np.empty(shape=[size], dtype='<U1')\n",
    "    count=0\n",
    "    for root, dirs, files in os.walk(dir_):\n",
    "        for file in files:\n",
    "            if file.endswith(\"jpg\"):\n",
    "                X[count] = plt.imread(os.path.join(root, file))\n",
    "                #print(file.split(\".\")[0])\n",
    "                #y[count] = file.split(\".\")[0]\n",
    "                y.append(file.split(\".\")[0])\n",
    "                count+=1\n",
    "    #save_file(X,y,name=type_)\n",
    "    return X, y\n",
    "\n",
    "def extract_features(model,img,input_size=224,exit_layer = 'fc2'):\n",
    "    x = resize(img,(input_size,input_size))\n",
    "    x = np.expand_dims(x, axis=0)\n",
    "    x = preprocess_input(x)\n",
    "    features = model.predict(x)\n",
    "    model_extractfeatures = Model(input=model.input, output=model.get_layer(exit_layer).output)\n",
    "    fc2_features = np.squeeze(model_extractfeatures.predict(x))\n",
    "    return fc2_features\n",
    "\n",
    "def extract(X, model):\n",
    "    extracted_features = np.zeros((X.shape[0],4096))\n",
    "    start = time.time()\n",
    "    for i in range(len(X)):\n",
    "        extracted_features[i] = extract_features(model,img=X[i])\n",
    "        if i%100 == 0:\n",
    "            print(\"{} %\".format(i/100))\n",
    "            t = time.time() - start\n",
    "            print(\"time eclipsed:\\nSeconds: {}\\nMinutes: {}\\nHours: {}\".format(t,t/60,t/3600))\n",
    "    print(\"TOTAL TIME: {}\".format(time.time()-start))\n",
    "    return extracted_features\n",
    "\n",
    "def extract_efficient(X, model, type_='train'):\n",
    "    if not os.path.exists(\"data/\"+type_+\"ing_svm\"):\n",
    "        os.mkdir(\"data/\"+type_+\"ing_svm\")\n",
    "    predictions = []\n",
    "    start = time.time()\n",
    "    for i in range(len(X)):\n",
    "        predictions.append(extract_features(model,img=X[i]))\n",
    "        if i%10==0:\n",
    "            print(\"{:.1f} percent done\".format((i/len(X))*100))\n",
    "            t = time.time() - start\n",
    "            print(\"time eclipsed:\\nSeconds: {}\\nMinutes: {}\\nHours: {}\".format(t,t/60,t/3600))\n",
    "            np.savez(\"data/\"+type_+\"ing_svm/\"+type_+str(i)+'.npz', *predictions)\n",
    "            predictions=[]"
   ]
  },
  {
   "cell_type": "markdown",
   "metadata": {},
   "source": [
    "# VGG16 Model load"
   ]
  },
  {
   "cell_type": "code",
   "execution_count": 3,
   "metadata": {},
   "outputs": [],
   "source": [
    "model = vgg16.VGG16(weights='imagenet', include_top=True)"
   ]
  },
  {
   "cell_type": "markdown",
   "metadata": {},
   "source": [
    "## Training"
   ]
  },
  {
   "cell_type": "code",
   "execution_count": null,
   "metadata": {},
   "outputs": [],
   "source": [
    "X, y = arrays_from_files(type_ = 'training')"
   ]
  },
  {
   "cell_type": "code",
   "execution_count": null,
   "metadata": {},
   "outputs": [],
   "source": [
    "extract_efficient(X, model, type_='train')"
   ]
  },
  {
   "cell_type": "code",
   "execution_count": null,
   "metadata": {},
   "outputs": [],
   "source": [
    "X_train = np.zeros((X.shape[0],4096))\n",
    "count = 0\n",
    "for root, dirs, files in os.walk('data/training_svm/'):\n",
    "    for file in files:\n",
    "        npzfile = np.load(os.path.join(root, file))\n",
    "        for i in npzfile.files:\n",
    "            X_train[count] = npzfile[i]\n",
    "            count+=1"
   ]
  },
  {
   "cell_type": "code",
   "execution_count": null,
   "metadata": {},
   "outputs": [],
   "source": [
    "np.save(\"data/SVM-X_train\", X_train)"
   ]
  },
  {
   "cell_type": "code",
   "execution_count": null,
   "metadata": {},
   "outputs": [],
   "source": [
    "pd.DataFrame(y).to_csv(\"data/SVM-y_train.csv\")"
   ]
  },
  {
   "cell_type": "code",
   "execution_count": null,
   "metadata": {},
   "outputs": [],
   "source": []
  },
  {
   "cell_type": "code",
   "execution_count": null,
   "metadata": {},
   "outputs": [],
   "source": []
  },
  {
   "cell_type": "markdown",
   "metadata": {},
   "source": [
    "## Testing"
   ]
  },
  {
   "cell_type": "code",
   "execution_count": 4,
   "metadata": {},
   "outputs": [],
   "source": [
    "X, y = arrays_from_files(type_ = 'test')"
   ]
  },
  {
   "cell_type": "code",
   "execution_count": null,
   "metadata": {},
   "outputs": [],
   "source": [
    "extract_efficient(X, model, type_='test')"
   ]
  },
  {
   "cell_type": "code",
   "execution_count": 5,
   "metadata": {},
   "outputs": [],
   "source": [
    "X_test = np.zeros((1252,4096))\n",
    "count = 0\n",
    "for root, dirs, files in os.walk('data/testing_svm/'):\n",
    "    for file in files:\n",
    "        npzfile = np.load(os.path.join(root, file))\n",
    "        for i in npzfile.files:\n",
    "            X_test[count] = npzfile[i]\n",
    "            count+=1"
   ]
  },
  {
   "cell_type": "code",
   "execution_count": 7,
   "metadata": {},
   "outputs": [],
   "source": [
    "np.save(\"data/SVM-X_test\", X_test)\n",
    "#pd.DataFrame(y).to_csv(\"data/SVM-y_test.csv\")"
   ]
  },
  {
   "cell_type": "code",
   "execution_count": 6,
   "metadata": {},
   "outputs": [
    {
     "data": {
      "text/plain": [
       "array([[0.        , 0.50940722, 0.        , ..., 3.21446848, 2.65405488,\n",
       "        0.        ],\n",
       "       [0.        , 0.        , 0.        , ..., 0.89573222, 2.59307289,\n",
       "        0.        ],\n",
       "       [0.89671576, 0.49614137, 0.        , ..., 1.48719215, 5.90065384,\n",
       "        0.        ],\n",
       "       ...,\n",
       "       [0.        , 0.        , 0.59858841, ..., 5.04070425, 2.4119308 ,\n",
       "        0.        ],\n",
       "       [1.96803379, 0.        , 0.        , ..., 3.44944263, 2.0387485 ,\n",
       "        0.        ],\n",
       "       [0.        , 0.        , 0.        , ..., 0.        , 0.        ,\n",
       "        0.        ]])"
      ]
     },
     "execution_count": 6,
     "metadata": {},
     "output_type": "execute_result"
    }
   ],
   "source": [
    "X_test"
   ]
  },
  {
   "cell_type": "code",
   "execution_count": null,
   "metadata": {},
   "outputs": [],
   "source": []
  }
 ],
 "metadata": {
  "kernelspec": {
   "display_name": "Python 3",
   "language": "python",
   "name": "python3"
  },
  "language_info": {
   "codemirror_mode": {
    "name": "ipython",
    "version": 3
   },
   "file_extension": ".py",
   "mimetype": "text/x-python",
   "name": "python",
   "nbconvert_exporter": "python",
   "pygments_lexer": "ipython3",
   "version": "3.6.4"
  }
 },
 "nbformat": 4,
 "nbformat_minor": 2
}
