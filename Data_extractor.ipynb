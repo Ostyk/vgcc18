{
 "cells": [
  {
   "cell_type": "code",
   "execution_count": 1,
   "metadata": {},
   "outputs": [
    {
     "name": "stderr",
     "output_type": "stream",
     "text": [
      "/Library/Frameworks/Python.framework/Versions/3.6/lib/python3.6/site-packages/h5py/__init__.py:36: FutureWarning: Conversion of the second argument of issubdtype from `float` to `np.floating` is deprecated. In future, it will be treated as `np.float64 == np.dtype(float).type`.\n",
      "  from ._conv import register_converters as _register_converters\n",
      "Using TensorFlow backend.\n"
     ]
    }
   ],
   "source": [
    "from keras.preprocessing.image import ImageDataGenerator\n",
    "from keras.optimizers import Adam, SGD\n",
    "from keras.models import Sequential\n",
    "from keras.layers import Conv2D, MaxPooling2D\n",
    "from keras.layers import Activation, Dropout, Flatten, Dense\n",
    "from keras import backend as K\n",
    "from keras.callbacks import CSVLogger\n",
    "import os\n",
    "import matplotlib.pyplot as plt\n",
    "from numpy import savetxt\n",
    "import pandas as pd\n",
    "import shutil"
   ]
  },
  {
   "cell_type": "code",
   "execution_count": 3,
   "metadata": {
    "scrolled": false
   },
   "outputs": [
    {
     "name": "stdout",
     "output_type": "stream",
     "text": [
      "done\n"
     ]
    }
   ],
   "source": [
    "test_data_dir = 'data/sc5-test'\n",
    "train_data_dir = 'data/sc5'\n",
    "\n",
    "def move(validation_data_dir):\n",
    "    '''\n",
    "    only do this once\n",
    "    '''\n",
    "    gt = pd.read_csv(os.path.join(validation_data_dir, 'ground_truth.txt'),sep = ';', header = None)\n",
    "\n",
    "    for root, dirs, files in os.walk(validation_data_dir):\n",
    "        for file in files:\n",
    "            if file.endswith('jpg'):\n",
    "                img_class = gt.loc[gt[0]==file].iloc[0][1]\n",
    "                x = img_class.split(\" \")\n",
    "                x = [i.replace(\":\",\"\") for i in x]\n",
    "                img_class = \"\".join(x)\n",
    "\n",
    "                dir_ = os.path.join(root, img_class)\n",
    "                if not os.path.exists(dir_):\n",
    "                    os.mkdir(dir_)\n",
    "                old, new = os.path.join(root, file), os.path.join(dir_, file)\n",
    "                shutil.move(old, new)\n",
    "    print(\"done\")\n",
    "    \n",
    "#move(test_data_dir)"
   ]
  },
  {
   "cell_type": "code",
   "execution_count": 4,
   "metadata": {},
   "outputs": [
    {
     "data": {
      "text/plain": [
       "18"
      ]
     },
     "execution_count": 4,
     "metadata": {},
     "output_type": "execute_result"
    }
   ],
   "source": [
    "test = sorted([i for i in os.listdir(test_data_dir) if os.path.isdir(os.path.join(os.getcwd(),os.path.join(test_data_dir,i)))])\n",
    "train = sorted([i for i in os.listdir(train_data_dir) if os.path.isdir(os.path.join(os.getcwd(),os.path.join(train_data_dir,i)))])\n",
    "\n",
    "to_keep = set(test).intersection(set(train)) # number of classes to keep\n",
    "len(to_keep)\n"
   ]
  },
  {
   "cell_type": "code",
   "execution_count": 5,
   "metadata": {},
   "outputs": [],
   "source": [
    "def select_classes():\n",
    "    for root, dirs, files in os.walk(test_data_dir):\n",
    "        c_name = root.split(\"/\")[-1]\n",
    "        if c_name in to_keep and len(os.listdir(root)) < 50:\n",
    "            to_keep.remove(c_name)\n",
    "            print(\"deleted {} with {} samples\".format(c_name, len(os.listdir(root))))"
   ]
  },
  {
   "cell_type": "code",
   "execution_count": 6,
   "metadata": {
    "collapsed": true
   },
   "outputs": [
    {
     "data": {
      "text/plain": [
       "{'Alilaguna',\n",
       " 'Ambulanza',\n",
       " 'Barchino',\n",
       " 'Gondola',\n",
       " 'Lanciafino10m',\n",
       " 'Lanciafino10mBianca',\n",
       " 'Lanciafino10mMarrone',\n",
       " 'Lanciamaggioredi10mBianca',\n",
       " 'Motobarca',\n",
       " 'Motopontonerettangolare',\n",
       " 'MotoscafoACTV',\n",
       " 'Mototopo',\n",
       " 'Patanella',\n",
       " 'Polizia',\n",
       " 'Raccoltarifiuti',\n",
       " 'Sandoloaremi',\n",
       " 'Topa',\n",
       " 'VaporettoACTV'}"
      ]
     },
     "execution_count": 6,
     "metadata": {},
     "output_type": "execute_result"
    }
   ],
   "source": [
    "to_keep"
   ]
  },
  {
   "cell_type": "code",
   "execution_count": 7,
   "metadata": {},
   "outputs": [
    {
     "name": "stdout",
     "output_type": "stream",
     "text": [
      "------\n"
     ]
    }
   ],
   "source": [
    "def move2(test_data_dir, train_data_dir, to_keep):\n",
    "    '''\n",
    "    gets rid of classes that dont appear on both sets\n",
    "    '''\n",
    "    for i in os.listdir(test_data_dir):\n",
    "        if i not in to_keep:\n",
    "            q=os.path.join(test_data_dir, i)\n",
    "            if os.path.isdir(q):\n",
    "                shutil.rmtree(q)\n",
    "    print(\"------\")\n",
    "    for i in os.listdir(train_data_dir):\n",
    "        if i not in to_keep:\n",
    "            q=os.path.join(train_data_dir, i)\n",
    "            if os.path.isdir(q):\n",
    "                shutil.rmtree(q)\n",
    "#move2(test_data_dir, train_data_dir, to_keep)"
   ]
  },
  {
   "cell_type": "code",
   "execution_count": 16,
   "metadata": {},
   "outputs": [],
   "source": [
    "folder_name = train_data_dir\n",
    "categories = [i for i in os.listdir(train_data_dir) if os.path.isdir(os.path.join(train_data_dir,i))]\n",
    "\n",
    "if not os.path.isdir(train_data_dir+\"/\"+\"train\"):\n",
    "    os.makedirs(train_data_dir+\"/\"+\"train\")\n",
    "if not os.path.isdir(train_data_dir+\"/\"+\"validation\"):\n",
    "    os.makedirs(train_data_dir+\"/\"+\"validation\")"
   ]
  },
  {
   "cell_type": "code",
   "execution_count": 17,
   "metadata": {},
   "outputs": [],
   "source": [
    "#lets read the images from the folder\n",
    "image_name = {}\n",
    "count = 0 \n",
    "for name in categories:\n",
    "    name_= []\n",
    "    if not name.endswith('txt'):\n",
    "        image_name_ =  os.listdir(folder_name+\"/\"+name)\n",
    "        myfolder=\"\"\n",
    "        for each in image_name_:\n",
    "            file_split  = each.split(\".\")\n",
    "            file_name =  name+\".\"+str(count)+\".\"+file_split[1]\n",
    "            if not os.path.isdir(folder_name+\"/train/\"+name):\n",
    "                myfolder  = folder_name+\"/train/\"+name\n",
    "                os.makedirs(myfolder)\n",
    "            \n",
    "            shutil.move(folder_name+'/'+name+\"/\"+each,myfolder+\"/\"+file_name)\n",
    "            \n",
    "            name_.append(myfolder+\"/\"+file_name)\n",
    "            count+=1\n",
    "        \n",
    "        shutil.rmtree(folder_name+'/'+name)\n",
    "        \n",
    "        image_name[name] = name_"
   ]
  },
  {
   "cell_type": "code",
   "execution_count": 18,
   "metadata": {},
   "outputs": [],
   "source": [
    "for name in os.listdir(folder_name+\"/train/\"):\n",
    "    if not os.path.isdir(folder_name+\"/validation/\"+name):\n",
    "        myfolder  = folder_name+\"/validation/\"+name\n",
    "        os.makedirs(myfolder)"
   ]
  },
  {
   "cell_type": "code",
   "execution_count": 21,
   "metadata": {},
   "outputs": [],
   "source": [
    "val_folder = os.listdir(folder_name+\"/train/\")\n",
    "for v in val_folder:\n",
    "    myfiles = os.listdir(folder_name+\"/train/\"+v)\n",
    "    if len(myfiles)>50:\n",
    "        some_files = myfiles[:50]\n",
    "        for each in some_files:\n",
    "            shutil.move(folder_name+\"/train/\"+v+\"/\"+each,folder_name+\"/validation/\"+v+\"/\"+each)"
   ]
  },
  {
   "cell_type": "code",
   "execution_count": null,
   "metadata": {},
   "outputs": [],
   "source": []
  },
  {
   "cell_type": "code",
   "execution_count": 22,
   "metadata": {},
   "outputs": [
    {
     "name": "stdout",
     "output_type": "stream",
     "text": [
      "Traning: 2510\n",
      "Testing: 1300\n"
     ]
    }
   ],
   "source": [
    "train_data_dir = 'data/sc5/train'\n",
    "validation_data_dir = 'data/sc5/validation'\n",
    "\n",
    "#number of training images\n",
    "nb_train_samples = 0\n",
    "for root, dirs, files in os.walk(train_data_dir):\n",
    "    nb_train_samples += len([i for i in files if i.endswith('.jpg')])\n",
    "\n",
    "#number of images used for testing (validation)\n",
    "nb_validation_samples = 0\n",
    "for root, dirs, files in os.walk(validation_data_dir):\n",
    "    nb_validation_samples += len([i for i in files if i.endswith('.jpg')])\n",
    "print(\"Traning: {}\\nTesting: {}\".format(nb_train_samples, nb_validation_samples))"
   ]
  },
  {
   "cell_type": "code",
   "execution_count": 23,
   "metadata": {},
   "outputs": [],
   "source": [
    "# CNN MODEL\n",
    "def VGCC18(n_classes, img_width, img_height): #n--numebr of classes\n",
    "    if K.image_data_format() == 'channels_first':\n",
    "        input_shape = (3, img_width, img_height)\n",
    "    else:\n",
    "        input_shape = (img_width, img_height, 3)\n",
    "    print(input_shape)\n",
    "    model = Sequential()\n",
    "    model.add(Conv2D(32, (3, 3), input_shape=input_shape))\n",
    "    model.add(Activation('relu'))\n",
    "    model.add(Dropout(0.1))\n",
    "    model.add(MaxPooling2D(pool_size=(2, 2)))\n",
    "\n",
    "    model.add(Conv2D(64, (3, 3)))\n",
    "    model.add(Activation('relu'))\n",
    "    model.add(Dropout(0.1))\n",
    "    model.add(MaxPooling2D(pool_size=(2, 2)))\n",
    "\n",
    "    model.add(Conv2D(64, (3, 3)))\n",
    "    model.add(Activation('relu'))\n",
    "    model.add(Dropout(0.1))\n",
    "    model.add(MaxPooling2D(pool_size=(2, 2)))\n",
    "\n",
    "    model.add(Flatten())\n",
    "    model.add(Dense(80))\n",
    "    model.add(Activation('relu'))\n",
    "    model.add(Dropout(0.6))\n",
    "    model.add(Dense(n_classes)) #18 classes\n",
    "    model.add(Activation('softmax'))\n",
    "    return model\n"
   ]
  },
  {
   "cell_type": "code",
   "execution_count": 24,
   "metadata": {},
   "outputs": [
    {
     "name": "stdout",
     "output_type": "stream",
     "text": [
      "(200, 200, 3)\n",
      "_________________________________________________________________\n",
      "Layer (type)                 Output Shape              Param #   \n",
      "=================================================================\n",
      "conv2d_1 (Conv2D)            (None, 198, 198, 32)      896       \n",
      "_________________________________________________________________\n",
      "activation_1 (Activation)    (None, 198, 198, 32)      0         \n",
      "_________________________________________________________________\n",
      "dropout_1 (Dropout)          (None, 198, 198, 32)      0         \n",
      "_________________________________________________________________\n",
      "max_pooling2d_1 (MaxPooling2 (None, 99, 99, 32)        0         \n",
      "_________________________________________________________________\n",
      "conv2d_2 (Conv2D)            (None, 97, 97, 64)        18496     \n",
      "_________________________________________________________________\n",
      "activation_2 (Activation)    (None, 97, 97, 64)        0         \n",
      "_________________________________________________________________\n",
      "dropout_2 (Dropout)          (None, 97, 97, 64)        0         \n",
      "_________________________________________________________________\n",
      "max_pooling2d_2 (MaxPooling2 (None, 48, 48, 64)        0         \n",
      "_________________________________________________________________\n",
      "conv2d_3 (Conv2D)            (None, 46, 46, 64)        36928     \n",
      "_________________________________________________________________\n",
      "activation_3 (Activation)    (None, 46, 46, 64)        0         \n",
      "_________________________________________________________________\n",
      "dropout_3 (Dropout)          (None, 46, 46, 64)        0         \n",
      "_________________________________________________________________\n",
      "max_pooling2d_3 (MaxPooling2 (None, 23, 23, 64)        0         \n",
      "_________________________________________________________________\n",
      "flatten_1 (Flatten)          (None, 33856)             0         \n",
      "_________________________________________________________________\n",
      "dense_1 (Dense)              (None, 80)                2708560   \n",
      "_________________________________________________________________\n",
      "activation_4 (Activation)    (None, 80)                0         \n",
      "_________________________________________________________________\n",
      "dropout_4 (Dropout)          (None, 80)                0         \n",
      "_________________________________________________________________\n",
      "dense_2 (Dense)              (None, 18)                1458      \n",
      "_________________________________________________________________\n",
      "activation_5 (Activation)    (None, 18)                0         \n",
      "=================================================================\n",
      "Total params: 2,766,338\n",
      "Trainable params: 2,766,338\n",
      "Non-trainable params: 0\n",
      "_________________________________________________________________\n"
     ]
    }
   ],
   "source": [
    "#size of our generated images\n",
    "img_width, img_height = 200, 200\n",
    "\n",
    "model = VGCC18(n_classes = len(to_keep),\n",
    "              img_width = img_width,\n",
    "              img_height = img_height)\n",
    "\n",
    "model.summary()"
   ]
  },
  {
   "cell_type": "code",
   "execution_count": 25,
   "metadata": {},
   "outputs": [
    {
     "name": "stdout",
     "output_type": "stream",
     "text": [
      "Found 2510 images belonging to 18 classes.\n",
      "Found 1300 images belonging to 18 classes.\n",
      "Epoch 1/10\n",
      "62/62 [==============================] - 165s 3s/step - loss: 1.7636 - acc: 0.4944 - val_loss: 2.8371 - val_acc: 0.2450\n",
      "Epoch 2/10\n",
      "62/62 [==============================] - 179s 3s/step - loss: 1.4645 - acc: 0.5994 - val_loss: 2.5830 - val_acc: 0.3513\n",
      "Epoch 3/10\n",
      "62/62 [==============================] - 185s 3s/step - loss: 1.3695 - acc: 0.6302 - val_loss: 2.4946 - val_acc: 0.3200\n",
      "Epoch 4/10\n",
      "62/62 [==============================] - 186s 3s/step - loss: 1.1660 - acc: 0.6946 - val_loss: 2.4724 - val_acc: 0.3613\n",
      "Epoch 5/10\n",
      "62/62 [==============================] - 177s 3s/step - loss: 1.1094 - acc: 0.7188 - val_loss: 2.0369 - val_acc: 0.4175\n",
      "Epoch 6/10\n",
      "62/62 [==============================] - 186s 3s/step - loss: 0.9967 - acc: 0.7514 - val_loss: 2.1381 - val_acc: 0.4062\n",
      "Epoch 7/10\n",
      "62/62 [==============================] - 172s 3s/step - loss: 1.0282 - acc: 0.7480 - val_loss: 1.9151 - val_acc: 0.4300\n",
      "Epoch 8/10\n",
      "62/62 [==============================] - 163s 3s/step - loss: 0.9483 - acc: 0.7583 - val_loss: 1.9312 - val_acc: 0.4338\n",
      "Epoch 9/10\n",
      "62/62 [==============================] - 159s 3s/step - loss: 0.8805 - acc: 0.7681 - val_loss: 1.8921 - val_acc: 0.4363\n",
      "Epoch 10/10\n",
      "62/62 [==============================] - 164s 3s/step - loss: 0.8683 - acc: 0.7714 - val_loss: 1.8441 - val_acc: 0.4338\n"
     ]
    },
    {
     "data": {
      "text/plain": [
       "<keras.callbacks.History at 0x1209f3c18>"
      ]
     },
     "execution_count": 25,
     "metadata": {},
     "output_type": "execute_result"
    }
   ],
   "source": [
    "#tracking our model\n",
    "csv_logger = CSVLogger('training.log')\n",
    "\n",
    "model.compile(loss='categorical_crossentropy',\n",
    "              optimizer=Adam(lr=0.001),\n",
    "              metrics=['accuracy'])\n",
    "\n",
    "\n",
    "epochs = 10\n",
    "batch_size = 32\n",
    "\n",
    "##Data augmentation##\n",
    "#for training\n",
    "train_datagen = ImageDataGenerator(\n",
    "    rotation_range = 30,\n",
    "    rescale=1. / 255,\n",
    "    zoom_range=0.2,\n",
    "    horizontal_flip=True)\n",
    "\n",
    "#for testing\n",
    "test_datagen = ImageDataGenerator(rescale=1. / 255)\n",
    "\n",
    "#further augmentation of our data\n",
    "#training\n",
    "train_generator = train_datagen.flow_from_directory(\n",
    "    train_data_dir,\n",
    "    target_size=(img_width, img_height),\n",
    "    batch_size=batch_size,\n",
    "    class_mode = 'categorical')\n",
    "#testing\n",
    "validation_generator = valid_datagen.flow_from_directory(\n",
    "    validation_data_dir,\n",
    "    target_size=(img_width, img_height),\n",
    "    batch_size=batch_size,\n",
    "    class_mode = 'categorical')\n",
    "\n",
    "model.fit_generator(\n",
    "    train_generator,\n",
    "    steps_per_epoch=2000 // batch_size,\n",
    "    epochs=epochs,\n",
    "    validation_data=validation_generator,\n",
    "    validation_steps=800 // batch_size,\n",
    "    callbacks=[csv_logger], #logging our progress\n",
    "    verbose = 1)"
   ]
  },
  {
   "cell_type": "code",
   "execution_count": 26,
   "metadata": {},
   "outputs": [
    {
     "name": "stderr",
     "output_type": "stream",
     "text": [
      "/Library/Frameworks/Python.framework/Versions/3.6/lib/python3.6/site-packages/ipykernel_launcher.py:2: UserWarning: Update your `evaluate_generator` call to the Keras 2 API: `evaluate_generator(<keras.pre..., 40, use_multiprocessing=False)`\n",
      "  \n"
     ]
    },
    {
     "name": "stdout",
     "output_type": "stream",
     "text": [
      "40/40 [==============================] - 31s 768ms/step\n"
     ]
    }
   ],
   "source": [
    "try:\n",
    "\tscores = model.evaluate_generator(validation_generator, nb_validation_samples // batch_size, pickle_safe = False)\n",
    "\tpredict = model.predict_generator(validation_generator, nb_validation_samples // batch_size, verbose=1)\n",
    "\tsavetxt('scores.txt', scores)\n",
    "\tsavetxt('predictions.txt', predict)\n",
    "except BaseException as error:\n",
    "    print('An exception occurred: {}'.format(error))\n",
    "\n",
    "model.save_weights('my_model_weights_2.h5') #saving weights for further analysis\n",
    "model.save('my_model_2.h5')"
   ]
  },
  {
   "cell_type": "code",
   "execution_count": 27,
   "metadata": {},
   "outputs": [
    {
     "data": {
      "image/png": "[encoded data removed]",
      "text/plain": [
       "<Figure size 720x720 with 2 Axes>"
      ]
     },
     "metadata": {},
     "output_type": "display_data"
    }
   ],
   "source": [
    "import matplotlib.pyplot as plt\n",
    "\n",
    "plt.rcParams['text.usetex']=True\n",
    "plt.rcParams['text.latex.unicode']=True\n",
    "plt.rcParams.update({'legend.fontsize': 'x-large',\n",
    "          'figure.figsize': (15, 5),\n",
    "         'axes.labelsize': 'x-large',\n",
    "         'axes.titlesize':'x-large',\n",
    "         'xtick.labelsize':'x-large',\n",
    "         'ytick.labelsize':'x-large'})\n",
    "\n",
    "\n",
    "history = pd.read_csv('training.log')\n",
    "plt.figure(figsize=(10,10))\n",
    "plt.subplots_adjust(hspace=0.3)\n",
    "plt.subplot(211)\n",
    "# summarize history for accuracy\n",
    "plt.plot(history['acc'])\n",
    "plt.plot(history['val_acc'])\n",
    "plt.title('model accuracy')\n",
    "plt.ylabel('accuracy')\n",
    "plt.xlabel('epoch')\n",
    "plt.legend(['train', 'test'], loc='lower right')\n",
    "#plt.show()\n",
    "plt.subplot(212)\n",
    "# summarize history for loss\n",
    "plt.plot(history['loss'])\n",
    "plt.plot(history['val_loss'])\n",
    "plt.title('model loss')\n",
    "plt.ylabel('loss')\n",
    "plt.xlabel('epoch')\n",
    "plt.legend(['train', 'test'], loc='lower right')\n",
    "plt.show()"
   ]
  },
  {
   "cell_type": "code",
   "execution_count": null,
   "metadata": {},
   "outputs": [],
   "source": [
    "gt = pd.read_csv(os.path.join('sc5-test-set', 'ground_truth.txt'),sep = ';', header = None)"
   ]
  },
  {
   "cell_type": "code",
   "execution_count": 28,
   "metadata": {},
   "outputs": [
    {
     "name": "stdout",
     "output_type": "stream",
     "text": [
      "Found 1252 images belonging to 18 classes.\n"
     ]
    }
   ],
   "source": [
    "test_generator = test_datagen.flow_from_directory(\n",
    "    directory=test_data_dir,\n",
    "    target_size=(img_width, img_height),\n",
    "    batch_size=1,\n",
    "    class_mode=None,\n",
    "    shuffle=False,\n",
    "    seed=42\n",
    ")"
   ]
  },
  {
   "cell_type": "code",
   "execution_count": 29,
   "metadata": {},
   "outputs": [
    {
     "name": "stdout",
     "output_type": "stream",
     "text": [
      "1252/1252 [==============================] - 26s 21ms/step\n"
     ]
    }
   ],
   "source": [
    "test_generator.reset()\n",
    "pred=model.predict_generator(test_generator,verbose=1)"
   ]
  },
  {
   "cell_type": "code",
   "execution_count": 31,
   "metadata": {},
   "outputs": [],
   "source": [
    "import numpy as np"
   ]
  },
  {
   "cell_type": "code",
   "execution_count": 32,
   "metadata": {},
   "outputs": [],
   "source": [
    "predicted_class_indices=np.argmax(pred,axis=1)"
   ]
  },
  {
   "cell_type": "code",
   "execution_count": 33,
   "metadata": {},
   "outputs": [],
   "source": [
    "labels = (train_generator.class_indices)\n",
    "labels = dict((v,k) for k,v in labels.items())\n",
    "predictions = [labels[k] for k in predicted_class_indices]"
   ]
  },
  {
   "cell_type": "code",
   "execution_count": 34,
   "metadata": {},
   "outputs": [],
   "source": [
    "filenames=test_generator.filenames\n",
    "results=pd.DataFrame({\"Filename\":filenames,\n",
    "                      \"Predictions\":predictions})\n",
    "results.to_csv(\"results.csv\",index=False)"
   ]
  },
  {
   "cell_type": "code",
   "execution_count": 41,
   "metadata": {},
   "outputs": [
    {
     "data": {
      "text/html": [
       "<div>\n",
       "<style scoped>\n",
       "    .dataframe tbody tr th:only-of-type {\n",
       "        vertical-align: middle;\n",
       "    }\n",
       "\n",
       "    .dataframe tbody tr th {\n",
       "        vertical-align: top;\n",
       "    }\n",
       "\n",
       "    .dataframe thead th {\n",
       "        text-align: right;\n",
       "    }\n",
       "</style>\n",
       "<table border=\"1\" class=\"dataframe\">\n",
       "  <thead>\n",
       "    <tr style=\"text-align: right;\">\n",
       "      <th></th>\n",
       "      <th>epoch</th>\n",
       "      <th>acc</th>\n",
       "      <th>loss</th>\n",
       "      <th>val_acc</th>\n",
       "      <th>val_loss</th>\n",
       "    </tr>\n",
       "  </thead>\n",
       "  <tbody>\n",
       "    <tr>\n",
       "      <th>0</th>\n",
       "      <td>0</td>\n",
       "      <td>0.496948</td>\n",
       "      <td>1.760077</td>\n",
       "      <td>0.24500</td>\n",
       "      <td>2.837141</td>\n",
       "    </tr>\n",
       "    <tr>\n",
       "      <th>1</th>\n",
       "      <td>1</td>\n",
       "      <td>0.599695</td>\n",
       "      <td>1.464714</td>\n",
       "      <td>0.35125</td>\n",
       "      <td>2.583037</td>\n",
       "    </tr>\n",
       "    <tr>\n",
       "      <th>2</th>\n",
       "      <td>2</td>\n",
       "      <td>0.630722</td>\n",
       "      <td>1.367841</td>\n",
       "      <td>0.32000</td>\n",
       "      <td>2.494601</td>\n",
       "    </tr>\n",
       "    <tr>\n",
       "      <th>3</th>\n",
       "      <td>3</td>\n",
       "      <td>0.693795</td>\n",
       "      <td>1.168632</td>\n",
       "      <td>0.36125</td>\n",
       "      <td>2.472368</td>\n",
       "    </tr>\n",
       "    <tr>\n",
       "      <th>4</th>\n",
       "      <td>4</td>\n",
       "      <td>0.718750</td>\n",
       "      <td>1.109353</td>\n",
       "      <td>0.41750</td>\n",
       "      <td>2.036891</td>\n",
       "    </tr>\n",
       "    <tr>\n",
       "      <th>5</th>\n",
       "      <td>5</td>\n",
       "      <td>0.751780</td>\n",
       "      <td>0.997216</td>\n",
       "      <td>0.40625</td>\n",
       "      <td>2.138067</td>\n",
       "    </tr>\n",
       "    <tr>\n",
       "      <th>6</th>\n",
       "      <td>6</td>\n",
       "      <td>0.747984</td>\n",
       "      <td>1.028195</td>\n",
       "      <td>0.43000</td>\n",
       "      <td>1.915085</td>\n",
       "    </tr>\n",
       "    <tr>\n",
       "      <th>7</th>\n",
       "      <td>7</td>\n",
       "      <td>0.757187</td>\n",
       "      <td>0.943153</td>\n",
       "      <td>0.43375</td>\n",
       "      <td>1.931159</td>\n",
       "    </tr>\n",
       "    <tr>\n",
       "      <th>8</th>\n",
       "      <td>8</td>\n",
       "      <td>0.768145</td>\n",
       "      <td>0.880529</td>\n",
       "      <td>0.43625</td>\n",
       "      <td>1.892074</td>\n",
       "    </tr>\n",
       "    <tr>\n",
       "      <th>9</th>\n",
       "      <td>9</td>\n",
       "      <td>0.770600</td>\n",
       "      <td>0.869058</td>\n",
       "      <td>0.43375</td>\n",
       "      <td>1.844103</td>\n",
       "    </tr>\n",
       "  </tbody>\n",
       "</table>\n",
       "</div>"
      ],
      "text/plain": [
       "   epoch       acc      loss  val_acc  val_loss\n",
       "0      0  0.496948  1.760077  0.24500  2.837141\n",
       "1      1  0.599695  1.464714  0.35125  2.583037\n",
       "2      2  0.630722  1.367841  0.32000  2.494601\n",
       "3      3  0.693795  1.168632  0.36125  2.472368\n",
       "4      4  0.718750  1.109353  0.41750  2.036891\n",
       "5      5  0.751780  0.997216  0.40625  2.138067\n",
       "6      6  0.747984  1.028195  0.43000  1.915085\n",
       "7      7  0.757187  0.943153  0.43375  1.931159\n",
       "8      8  0.768145  0.880529  0.43625  1.892074\n",
       "9      9  0.770600  0.869058  0.43375  1.844103"
      ]
     },
     "execution_count": 41,
     "metadata": {},
     "output_type": "execute_result"
    }
   ],
   "source": [
    "history"
   ]
  },
  {
   "cell_type": "code",
   "execution_count": 59,
   "metadata": {},
   "outputs": [
    {
     "data": {
      "text/plain": [
       "68.9297124600639"
      ]
     },
     "execution_count": 59,
     "metadata": {},
     "output_type": "execute_result"
    }
   ],
   "source": [
    "r = 0\n",
    "for i in range(len(filenames)):\n",
    "    if filenames[i].split(\"/\")[0] == predictions[i]:\n",
    "        r+=1\n",
    "accuracy = r/len(filenames) * 100\n",
    "accuracy"
   ]
  },
  {
   "cell_type": "code",
   "execution_count": null,
   "metadata": {},
   "outputs": [],
   "source": []
  },
  {
   "cell_type": "code",
   "execution_count": null,
   "metadata": {},
   "outputs": [],
   "source": [
    "import numpy as np\n",
    "from keras.preprocessing.image import ImageDataGenerator\n",
    "from keras.models import Sequential\n",
    "from keras.layers import Dropout, Flatten, Dense\n",
    "from keras import applications\n",
    "\n",
    "# dimensions of our images.\n",
    "img_width, img_height = 240, 800\n",
    "\n",
    "top_model_weights_path = 'bottleneck_fc_model.h5'\n",
    "\n",
    "train_data_dir = 'data/sc5'\n",
    "validation_data_dir = 'data/sc5-test'\n",
    "#number of training images\n",
    "nb_train_samples = 0\n",
    "for root, dirs, files in os.walk(train_data_dir):\n",
    "    nb_train_samples += len([i for i in files if i.endswith('.jpg')])\n",
    "\n",
    "#number of images used for testing (validation)\n",
    "nb_validation_samples = 0\n",
    "for root, dirs, files in os.walk(validation_data_dir):\n",
    "    nb_validation_samples += len([i for i in files if i.endswith('.jpg')])\n",
    "print(\"Traning: {}\\nTesting: {}\".format(nb_train_samples, nb_validation_samples))\n",
    "\n",
    "epochs = 50\n",
    "batch_size = 16"
   ]
  },
  {
   "cell_type": "code",
   "execution_count": null,
   "metadata": {},
   "outputs": [],
   "source": [
    "def save_bottlebeck_features():\n",
    "    datagen = ImageDataGenerator(rescale=1. / 255)\n",
    "\n",
    "    # build the VGG16 network\n",
    "    model = applications.VGG16(include_top=False, weights='imagenet')\n",
    "\n",
    "    generator = datagen.flow_from_directory(\n",
    "        train_data_dir,\n",
    "        target_size=(img_width, img_height),\n",
    "        batch_size=batch_size,\n",
    "        class_mode='categorical',\n",
    "        shuffle=False)\n",
    "    bottleneck_features_train = model.predict_generator(\n",
    "        generator, nb_train_samples // batch_size)\n",
    "    np.save(open('bottleneck_features_train.npy', 'w'),\n",
    "            bottleneck_features_train)\n",
    "\n",
    "    generator = datagen.flow_from_directory(\n",
    "        validation_data_dir,\n",
    "        target_size=(img_width, img_height),\n",
    "        batch_size=batch_size,\n",
    "        class_mode='categorical',\n",
    "        shuffle=False)\n",
    "    bottleneck_features_validation = model.predict_generator(\n",
    "        generator, nb_validation_samples // batch_size)\n",
    "    np.save(open('bottleneck_features_validation.npy', 'w'),\n",
    "            bottleneck_features_validation)\n",
    "\n",
    "\n",
    "def train_top_model():\n",
    "    train_data = np.load(open('bottleneck_features_train.npy'))\n",
    "    train_labels = np.array(\n",
    "        [0] * (nb_train_samples / 2) + [1] * (nb_train_samples / 2))\n",
    "\n",
    "    validation_data = np.load(open('bottleneck_features_validation.npy'))\n",
    "    validation_labels = np.array(\n",
    "        [0] * (nb_validation_samples / 2) + [1] * (nb_validation_samples / 2))\n",
    "\n",
    "    model = Sequential()\n",
    "    model.add(Flatten(input_shape=train_data.shape[1:]))\n",
    "    model.add(Dense(256, activation='relu'))\n",
    "    model.add(Dropout(0.5))\n",
    "    model.add(Dense(1, activation='sigmoid'))\n",
    "\n",
    "    model.compile(optimizer='rmsprop',\n",
    "                  loss='categorical_crossentropy', metrics=['accuracy'])\n",
    "\n",
    "    model.fit(train_data, train_labels,\n",
    "              epochs=epochs,\n",
    "              batch_size=batch_size,\n",
    "              validation_data=(validation_data, validation_labels))\n",
    "    model.save_weights(top_model_weights_path)\n",
    "\n",
    "\n",
    "save_bottlebeck_features()\n",
    "#train_top_model()"
   ]
  },
  {
   "cell_type": "code",
   "execution_count": null,
   "metadata": {},
   "outputs": [],
   "source": [
    "import numpy as np"
   ]
  },
  {
   "cell_type": "code",
   "execution_count": null,
   "metadata": {},
   "outputs": [],
   "source": [
    "plt.imread('data/sc5/Gondola/20130410_122235_88375.jpg').shape"
   ]
  },
  {
   "cell_type": "code",
   "execution_count": null,
   "metadata": {},
   "outputs": [],
   "source": [
    "ee=0\n",
    "for root, dirs, files in os.walk(train_data_dir):\n",
    "        if len(os.listdir(root))>200: ee+=1\n",
    "print(ee)"
   ]
  },
  {
   "cell_type": "code",
   "execution_count": null,
   "metadata": {},
   "outputs": [],
   "source": [
    "len(os.listdir(root))"
   ]
  },
  {
   "cell_type": "code",
   "execution_count": null,
   "metadata": {},
   "outputs": [],
   "source": [
    "train_data_dir"
   ]
  },
  {
   "cell_type": "code",
   "execution_count": null,
   "metadata": {},
   "outputs": [],
   "source": []
  }
 ],
 "metadata": {
  "kernelspec": {
   "display_name": "Python 3",
   "language": "python",
   "name": "python3"
  },
  "language_info": {
   "codemirror_mode": {
    "name": "ipython",
    "version": 3
   },
   "file_extension": ".py",
   "mimetype": "text/x-python",
   "name": "python",
   "nbconvert_exporter": "python",
   "pygments_lexer": "ipython3",
   "version": "3.6.4"
  }
 },
 "nbformat": 4,
 "nbformat_minor": 2
}
