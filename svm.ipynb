{
 "cells": [
  {
   "cell_type": "markdown",
   "metadata": {},
   "source": [
    "# SVM\n",
    "## Training an SVM classifier on top of the extracted CNN Nodes "
   ]
  },
  {
   "cell_type": "code",
   "execution_count": 1,
   "metadata": {},
   "outputs": [
    {
     "name": "stderr",
     "output_type": "stream",
     "text": [
      "/Library/Frameworks/Python.framework/Versions/3.6/lib/python3.6/site-packages/h5py/__init__.py:36: FutureWarning: Conversion of the second argument of issubdtype from `float` to `np.floating` is deprecated. In future, it will be treated as `np.float64 == np.dtype(float).type`.\n",
      "  from ._conv import register_converters as _register_converters\n",
      "/Library/Frameworks/Python.framework/Versions/3.6/lib/python3.6/site-packages/sklearn/cross_validation.py:41: DeprecationWarning: This module was deprecated in version 0.18 in favor of the model_selection module into which all the refactored classes and functions are moved. Also note that the interface of the new CV iterators are different from that of this module. This module will be removed in 0.20.\n",
      "  \"This module will be removed in 0.20.\", DeprecationWarning)\n",
      "/Library/Frameworks/Python.framework/Versions/3.6/lib/python3.6/site-packages/sklearn/grid_search.py:42: DeprecationWarning: This module was deprecated in version 0.18 in favor of the model_selection module into which all the refactored classes and functions are moved. This module will be removed in 0.20.\n",
      "  DeprecationWarning)\n"
     ]
    }
   ],
   "source": [
    "# generic\n",
    "import numpy as np\n",
    "import os\n",
    "import matplotlib.pyplot as plt\n",
    "import h5py\n",
    "import itertools\n",
    "import matplotlib\n",
    "#matplotlib.style.use('ggplot')\n",
    "\n",
    "# sklearn\n",
    "from sklearn import cross_validation, grid_search\n",
    "from sklearn.metrics import confusion_matrix, classification_report,accuracy_score\n",
    "from sklearn.svm import SVC, LinearSVC\n",
    "from sklearn.model_selection import GridSearchCV\n",
    "import pandas as pd\n"
   ]
  },
  {
   "cell_type": "markdown",
   "metadata": {},
   "source": [
    "importing necessary data "
   ]
  },
  {
   "cell_type": "code",
   "execution_count": 2,
   "metadata": {},
   "outputs": [],
   "source": [
    "X_test = np.load(\"data/SVM-X_test.npy\")\n",
    "y_test = pd.read_csv(\"data/SVM-y_test.csv\")\n",
    "y_test = y_test['0']"
   ]
  },
  {
   "cell_type": "code",
   "execution_count": 3,
   "metadata": {},
   "outputs": [],
   "source": [
    "X_train = np.load(\"data/SVM-X_train.npy\")\n",
    "y_train = pd.read_csv(\"data/SVM-y_train.csv\")\n",
    "y_train = list(y_train['0'])"
   ]
  },
  {
   "cell_type": "code",
   "execution_count": null,
   "metadata": {},
   "outputs": [],
   "source": []
  },
  {
   "cell_type": "code",
   "execution_count": 4,
   "metadata": {},
   "outputs": [
    {
     "name": "stdout",
     "output_type": "stream",
     "text": [
      "1252 1252\n",
      "3810 3810\n"
     ]
    }
   ],
   "source": [
    "print(len(X_test), len(y_test))\n",
    "print(len(X_train), len(y_train))"
   ]
  },
  {
   "cell_type": "code",
   "execution_count": 5,
   "metadata": {},
   "outputs": [],
   "source": [
    "gt = pd.read_csv(os.path.join('data/sc5-test','ground_truth.txt'),sep = ';', header = None)\n",
    "y_test_new = []\n",
    "for ind, val in enumerate(y_test):\n",
    "    y_test_new.append(list(gt[gt[0]==val+'.jpg'][1])[0])"
   ]
  },
  {
   "cell_type": "code",
   "execution_count": 6,
   "metadata": {},
   "outputs": [
    {
     "name": "stdout",
     "output_type": "stream",
     "text": [
      "['Gondola' 'Gondola' 'Gondola' ... 'Motopontone rettangolare'\n",
      " 'Motopontone rettangolare' 'Motopontone rettangolare']\n",
      "['Gondola' 'Gondola' 'Gondola' ... 'Barchino' 'Barchino' 'Barchino']\n"
     ]
    }
   ],
   "source": [
    "from numpy import array\n",
    "from numpy import argmax\n",
    "from sklearn.preprocessing import StandardScaler\n",
    "from sklearn.preprocessing import LabelEncoder\n",
    "from sklearn.preprocessing import OneHotEncoder\n",
    "from sklearn.decomposition import PCA\n",
    "\n",
    "def onehot(y_test_new):\n",
    "    values = np.array(y_test_new)\n",
    "    print(values)\n",
    "    # integer encode\n",
    "    label_encoder = LabelEncoder()\n",
    "    integer_encoded = label_encoder.fit_transform(values)\n",
    "    # binary encode\n",
    "    onehot_encoder = OneHotEncoder(sparse=False)\n",
    "    integer_encoded = integer_encoded.reshape(len(integer_encoded), 1)\n",
    "    onehot_encoded = onehot_encoder.fit_transform(integer_encoded)\n",
    "    return integer_encoded\n",
    "y_test = onehot(y_test_new)\n",
    "y_train = onehot(y_train)"
   ]
  },
  {
   "cell_type": "code",
   "execution_count": 7,
   "metadata": {},
   "outputs": [],
   "source": [
    "def scale_set(train,test):\n",
    "    \"\"\"uses sklearn standard sclar to normalize data\"\"\"\n",
    "    sc = StandardScaler()\n",
    "    fitted = sc.fit(train)\n",
    "    return sc.transform(train), sc.transform(test)\n",
    "#X_train, X_test = scale_set(X_train, X_test)\n",
    "def my_PCA(train,test):\n",
    "    '''applies PCA to the data'''\n",
    "    pca = PCA(n_components=train.shape[1])\n",
    "    data = pca.fit(train)\n",
    "    return pca.transform(train), pca.transform(test)\n",
    "X_train, X_test = my_PCA(X_train, X_test)"
   ]
  },
  {
   "cell_type": "code",
   "execution_count": 8,
   "metadata": {},
   "outputs": [],
   "source": [
    "y_test = y_test.ravel()\n",
    "y_train = y_train.ravel()"
   ]
  },
  {
   "cell_type": "markdown",
   "metadata": {},
   "source": [
    "# Now I will train three SVM classifiers:\n",
    "* SGD\n",
    "* Linear SVC\n",
    "* SVC (and with bagging)"
   ]
  },
  {
   "cell_type": "markdown",
   "metadata": {},
   "source": [
    "## SGD"
   ]
  },
  {
   "cell_type": "code",
   "execution_count": 10,
   "metadata": {},
   "outputs": [],
   "source": [
    "from sklearn.linear_model import SGDClassifier\n",
    "np.random.seed(42)"
   ]
  },
  {
   "cell_type": "code",
   "execution_count": 11,
   "metadata": {},
   "outputs": [
    {
     "name": "stderr",
     "output_type": "stream",
     "text": [
      "/Library/Frameworks/Python.framework/Versions/3.6/lib/python3.6/site-packages/sklearn/linear_model/stochastic_gradient.py:117: DeprecationWarning: n_iter parameter is deprecated in 0.19 and will be removed in 0.21. Use max_iter and tol instead.\n",
      "  DeprecationWarning)\n"
     ]
    },
    {
     "data": {
      "text/plain": [
       "SGDClassifier(alpha=0.0001, average=False, class_weight=None, epsilon=0.1,\n",
       "       eta0=3, fit_intercept=True, l1_ratio=0.15,\n",
       "       learning_rate='invscaling', loss='hinge', max_iter=None, n_iter=112,\n",
       "       n_jobs=-1, penalty='l2', power_t=0.5, random_state=None,\n",
       "       shuffle=True, tol=None, verbose=0, warm_start=False)"
      ]
     },
     "execution_count": 11,
     "metadata": {},
     "output_type": "execute_result"
    }
   ],
   "source": [
    "clf = SGDClassifier(loss=\"hinge\",\n",
    "                    penalty=\"l2\",\n",
    "                    n_jobs=-1,\n",
    "                    learning_rate='invscaling',\n",
    "                    eta0 = 3,\n",
    "                    n_iter = 112)\n",
    "clf.fit(X_train, y_train)"
   ]
  },
  {
   "cell_type": "code",
   "execution_count": 12,
   "metadata": {},
   "outputs": [
    {
     "name": "stdout",
     "output_type": "stream",
     "text": [
      "\n",
      "Classification report:\n",
      "             precision    recall  f1-score   support\n",
      "\n",
      "          0       0.00      0.00      0.00        19\n",
      "          1       0.00      0.00      0.00        22\n",
      "          2       0.07      0.02      0.03        51\n",
      "          3       0.00      0.00      0.00         3\n",
      "          4       0.00      0.00      0.00         7\n",
      "          5       0.16      0.12      0.14       217\n",
      "          6       0.06      0.06      0.06       125\n",
      "          7       0.00      0.00      0.00         6\n",
      "          8       0.04      0.03      0.04        59\n",
      "          9       0.00      0.00      0.00         3\n",
      "         10       0.00      0.00      0.00         1\n",
      "         11       0.21      0.25      0.23       274\n",
      "         12       0.09      0.08      0.08        74\n",
      "         13       0.00      0.00      0.00        15\n",
      "         14       0.00      0.00      0.00        19\n",
      "         15       0.00      0.00      0.00         3\n",
      "         16       0.04      0.03      0.04        29\n",
      "         17       0.25      0.29      0.27       325\n",
      "\n",
      "avg / total       0.16      0.16      0.16      1252\n",
      "\n",
      "The accuracy is 16.5%\n"
     ]
    }
   ],
   "source": [
    "y_predict=clf.predict(X_test)\n",
    "print(\"\\nClassification report:\")\n",
    "print(classification_report(y_test, y_predict))\n",
    "print(\"The accuracy is {:.1f}%\".format(accuracy_score(y_test, y_predict, normalize=True)*100))"
   ]
  },
  {
   "cell_type": "markdown",
   "metadata": {},
   "source": [
    "## LinearSVC"
   ]
  },
  {
   "cell_type": "code",
   "execution_count": null,
   "metadata": {},
   "outputs": [],
   "source": [
    "clf = LinearSVC(random_state=42,C=100,dual=False)\n",
    "clf.fit(X_train, y_train)"
   ]
  },
  {
   "cell_type": "code",
   "execution_count": null,
   "metadata": {},
   "outputs": [],
   "source": [
    "y_predict=clf.predict(X_test)\n",
    "print(\"\\nClassification report:\")\n",
    "print(classification_report(y_test, y_predict))\n",
    "print(\"The accuracy is {:.1f}%\".format(accuracy_score(y_test, y_predict, normalize=True)*100))"
   ]
  },
  {
   "cell_type": "markdown",
   "metadata": {},
   "source": [
    "## SVC (kernel trick) \n",
    "  "
   ]
  },
  {
   "cell_type": "code",
   "execution_count": 9,
   "metadata": {},
   "outputs": [
    {
     "data": {
      "text/plain": [
       "SVC(C=1.0, cache_size=200, class_weight=None, coef0=0.0,\n",
       "  decision_function_shape='ovr', degree=3, gamma='auto', kernel='rbf',\n",
       "  max_iter=-1, probability=False, random_state=None, shrinking=True,\n",
       "  tol=0.001, verbose=False)"
      ]
     },
     "execution_count": 9,
     "metadata": {},
     "output_type": "execute_result"
    }
   ],
   "source": [
    "clf = SVC(decision_function_shape='ovr')\n",
    "clf.fit(X_train, y_train)"
   ]
  },
  {
   "cell_type": "code",
   "execution_count": null,
   "metadata": {},
   "outputs": [],
   "source": [
    "print(\"\\nBest parameters set:\")\n",
    "print(clf.best_params_)"
   ]
  },
  {
   "cell_type": "code",
   "execution_count": 10,
   "metadata": {},
   "outputs": [
    {
     "name": "stdout",
     "output_type": "stream",
     "text": [
      "\n",
      "Classification report:\n",
      "             precision    recall  f1-score   support\n",
      "\n",
      "          0       0.00      0.00      0.00        19\n",
      "          1       0.00      0.00      0.00        22\n",
      "          2       0.00      0.00      0.00        51\n",
      "          3       0.00      0.00      0.00         3\n",
      "          4       0.00      0.00      0.00         7\n",
      "          5       0.00      0.00      0.00       217\n",
      "          6       1.00      0.01      0.02       125\n",
      "          7       0.00      0.00      0.00         6\n",
      "          8       0.00      0.00      0.00        59\n",
      "          9       0.00      0.00      0.00         3\n",
      "         10       0.00      0.00      0.00         1\n",
      "         11       0.19      0.44      0.26       274\n",
      "         12       0.00      0.00      0.00        74\n",
      "         13       0.00      0.00      0.00        15\n",
      "         14       0.00      0.00      0.00        19\n",
      "         15       0.00      0.00      0.00         3\n",
      "         16       0.00      0.00      0.00        29\n",
      "         17       0.29      0.55      0.38       325\n",
      "\n",
      "avg / total       0.22      0.24      0.16      1252\n",
      "\n",
      "The accuracy is 24.0%\n"
     ]
    },
    {
     "name": "stderr",
     "output_type": "stream",
     "text": [
      "/Library/Frameworks/Python.framework/Versions/3.6/lib/python3.6/site-packages/sklearn/metrics/classification.py:1135: UndefinedMetricWarning: Precision and F-score are ill-defined and being set to 0.0 in labels with no predicted samples.\n",
      "  'precision', 'predicted', average, warn_for)\n"
     ]
    }
   ],
   "source": [
    "y_predict=clf.predict(X_test)\n",
    "print(\"\\nClassification report:\")\n",
    "print(classification_report(y_test, y_predict))\n",
    "print(\"The accuracy is {:.1f}%\".format(accuracy_score(y_test, y_predict, normalize=True)*100))"
   ]
  }
 ],
 "metadata": {
  "kernelspec": {
   "display_name": "Python 3",
   "language": "python",
   "name": "python3"
  },
  "language_info": {
   "codemirror_mode": {
    "name": "ipython",
    "version": 3
   },
   "file_extension": ".py",
   "mimetype": "text/x-python",
   "name": "python",
   "nbconvert_exporter": "python",
   "pygments_lexer": "ipython3",
   "version": "3.6.4"
  }
 },
 "nbformat": 4,
 "nbformat_minor": 2
}
